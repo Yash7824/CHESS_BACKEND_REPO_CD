{
 "cells": [
  {
   "cell_type": "code",
   "execution_count": 1,
   "id": "5c71ff1f-6f6b-4afc-984d-4cec8b07014b",
   "metadata": {},
   "outputs": [],
   "source": [
    "import torch\n",
    "import torch.nn as nn\n",
    "import torch.optim as optim"
   ]
  },
  {
   "cell_type": "code",
   "execution_count": 11,
   "id": "eb3401a0-5bd0-4bec-b896-9abdc2d79c7c",
   "metadata": {},
   "outputs": [],
   "source": [
    "class ChessModel(nn.Module):\n",
    "    def __init__(self):\n",
    "        super(ChessModel, self).__init__()\n",
    "        self.conv1 = nn.Conv2d(1, 32, kernel_size=3, padding=1)\n",
    "        self.conv2 = nn.Conv2d(32, 64, kernel_size=3, padding=1)\n",
    "        self.fc1 = nn.Linear(64 * 2 * 2, 512)  # Update this line based on the new shape\n",
    "        self.fc2 = nn.Linear(512, 64)  # Output size depends on your move encoding\n",
    "\n",
    "    def forward(self, x):\n",
    "        x = torch.relu(self.conv1(x))\n",
    "        x = torch.max_pool2d(x, 2)\n",
    "        x = torch.relu(self.conv2(x))\n",
    "        x = torch.max_pool2d(x, 2)\n",
    "        \n",
    "        print(x.shape)  # Debugging print to check shape\n",
    "        \n",
    "        x = x.view(x.size(0), -1)  # Flatten the tensor dynamically\n",
    "        x = torch.relu(self.fc1(x))\n",
    "        x = self.fc2(x)\n",
    "        return x"
   ]
  },
  {
   "cell_type": "code",
   "execution_count": 12,
   "id": "83aa85f5-4e81-47b9-abf3-34e53c84bf88",
   "metadata": {},
   "outputs": [
    {
     "data": {
      "text/plain": [
       "ChessModel(\n",
       "  (conv1): Conv2d(1, 32, kernel_size=(3, 3), stride=(1, 1), padding=(1, 1))\n",
       "  (conv2): Conv2d(32, 64, kernel_size=(3, 3), stride=(1, 1), padding=(1, 1))\n",
       "  (fc1): Linear(in_features=256, out_features=512, bias=True)\n",
       "  (fc2): Linear(in_features=512, out_features=64, bias=True)\n",
       ")"
      ]
     },
     "execution_count": 12,
     "metadata": {},
     "output_type": "execute_result"
    }
   ],
   "source": [
    "# Initialize model, loss function, and optimizer\n",
    "model = ChessModel()\n",
    "criterion = nn.CrossEntropyLoss()\n",
    "optimizer = optim.Adam(model.parameters(), lr=0.001)\n",
    "model.eval()"
   ]
  },
  {
   "cell_type": "code",
   "execution_count": 10,
   "id": "48744950-5447-4545-8136-186535a5fa16",
   "metadata": {},
   "outputs": [
    {
     "name": "stdout",
     "output_type": "stream",
     "text": [
      "Model has been exported to chess_model.onnx\n"
     ]
    }
   ],
   "source": [
    "# Dummy input to match the model's expected input size\n",
    "# Assuming the input is a single-channel 8x8 chessboard\n",
    "dummy_input = torch.randn(1, 1, 8, 8)\n",
    "\n",
    "# Export the model to ONNX format\n",
    "torch.onnx.export(\n",
    "    model,                  # model being run\n",
    "    dummy_input,            # model input (or a tuple for multiple inputs)\n",
    "    \"chess_model.onnx\",     # where to save the model (can be a file or file-like object)\n",
    "    export_params=True,     # store the trained parameter weights inside the model file\n",
    "    opset_version=11,       # the ONNX version to export the model to\n",
    "    do_constant_folding=True,  # whether to execute constant folding for optimization\n",
    "    input_names=['input'],     # the model's input names\n",
    "    output_names=['output'],   # the model's output names\n",
    "    dynamic_axes={'input': {0: 'batch_size'},    # variable length axes\n",
    "                  'output': {0: 'batch_size'}}\n",
    ")\n",
    "\n",
    "print(\"Model has been exported to chess_model.onnx\")"
   ]
  },
  {
   "cell_type": "code",
   "execution_count": null,
   "id": "03a19102-bb94-4503-8f77-c9fd59dc53e7",
   "metadata": {},
   "outputs": [],
   "source": []
  }
 ],
 "metadata": {
  "kernelspec": {
   "display_name": "Python 3 (ipykernel)",
   "language": "python",
   "name": "python3"
  },
  "language_info": {
   "codemirror_mode": {
    "name": "ipython",
    "version": 3
   },
   "file_extension": ".py",
   "mimetype": "text/x-python",
   "name": "python",
   "nbconvert_exporter": "python",
   "pygments_lexer": "ipython3",
   "version": "3.12.3"
  }
 },
 "nbformat": 4,
 "nbformat_minor": 5
}
