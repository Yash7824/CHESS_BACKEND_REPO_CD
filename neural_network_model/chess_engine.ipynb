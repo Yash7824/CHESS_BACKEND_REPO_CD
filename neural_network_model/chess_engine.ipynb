{
 "cells": [
  {
   "cell_type": "code",
   "execution_count": null,
   "id": "4940450a-6af9-4bb8-ac18-4b8eb9e0f639",
   "metadata": {},
   "outputs": [],
   "source": [
    "import torch\n",
    "import torch.nn as nn\n",
    "import torch.optim as optim\n",
    "import numpy as np\n",
    "import random"
   ]
  },
  {
   "cell_type": "code",
   "execution_count": 3,
   "id": "de97f810-91f9-42dc-b4e0-be536f37b1d6",
   "metadata": {},
   "outputs": [
    {
     "ename": "NameError",
     "evalue": "name 'np' is not defined",
     "output_type": "error",
     "traceback": [
      "\u001b[1;31m---------------------------------------------------------------------------\u001b[0m",
      "\u001b[1;31mNameError\u001b[0m                                 Traceback (most recent call last)",
      "Cell \u001b[1;32mIn[3], line 32\u001b[0m\n\u001b[0;32m     30\u001b[0m \u001b[38;5;66;03m# Prepare the dataset\u001b[39;00m\n\u001b[0;32m     31\u001b[0m num_samples \u001b[38;5;241m=\u001b[39m \u001b[38;5;241m1000\u001b[39m  \u001b[38;5;66;03m# Number of samples to generate\u001b[39;00m\n\u001b[1;32m---> 32\u001b[0m X_train, y_train \u001b[38;5;241m=\u001b[39m \u001b[43mgenerate_dummy_chess_data\u001b[49m\u001b[43m(\u001b[49m\u001b[43mnum_samples\u001b[49m\u001b[43m)\u001b[49m\n\u001b[0;32m     34\u001b[0m \u001b[38;5;66;03m# Print the shapes of the generated dataset\u001b[39;00m\n\u001b[0;32m     35\u001b[0m \u001b[38;5;28mprint\u001b[39m(\u001b[38;5;124mf\u001b[39m\u001b[38;5;124m\"\u001b[39m\u001b[38;5;124mGenerated dataset shapes: X_train = \u001b[39m\u001b[38;5;132;01m{\u001b[39;00mX_train\u001b[38;5;241m.\u001b[39mshape\u001b[38;5;132;01m}\u001b[39;00m\u001b[38;5;124m, y_train = \u001b[39m\u001b[38;5;132;01m{\u001b[39;00my_train\u001b[38;5;241m.\u001b[39mshape\u001b[38;5;132;01m}\u001b[39;00m\u001b[38;5;124m\"\u001b[39m)\n",
      "Cell \u001b[1;32mIn[3], line 13\u001b[0m, in \u001b[0;36mgenerate_dummy_chess_data\u001b[1;34m(num_samples)\u001b[0m\n\u001b[0;32m      2\u001b[0m \u001b[38;5;250m\u001b[39m\u001b[38;5;124;03m\"\"\"\u001b[39;00m\n\u001b[0;32m      3\u001b[0m \u001b[38;5;124;03mGenerate a dummy dataset for chess move prediction.\u001b[39;00m\n\u001b[0;32m      4\u001b[0m \n\u001b[1;32m   (...)\u001b[0m\n\u001b[0;32m     10\u001b[0m \u001b[38;5;124;03m    y (np.ndarray): Target labels (moves) of shape (num_samples, 1).\u001b[39;00m\n\u001b[0;32m     11\u001b[0m \u001b[38;5;124;03m\"\"\"\u001b[39;00m\n\u001b[0;32m     12\u001b[0m \u001b[38;5;66;03m# Initialize empty arrays for board states (X) and target moves (y)\u001b[39;00m\n\u001b[1;32m---> 13\u001b[0m X \u001b[38;5;241m=\u001b[39m \u001b[43mnp\u001b[49m\u001b[38;5;241m.\u001b[39mzeros((num_samples, \u001b[38;5;241m8\u001b[39m, \u001b[38;5;241m8\u001b[39m, \u001b[38;5;241m12\u001b[39m), dtype\u001b[38;5;241m=\u001b[39mnp\u001b[38;5;241m.\u001b[39mfloat32)\n\u001b[0;32m     14\u001b[0m y \u001b[38;5;241m=\u001b[39m np\u001b[38;5;241m.\u001b[39mzeros((num_samples, \u001b[38;5;241m1\u001b[39m), dtype\u001b[38;5;241m=\u001b[39mnp\u001b[38;5;241m.\u001b[39mint64)\n\u001b[0;32m     16\u001b[0m \u001b[38;5;28;01mfor\u001b[39;00m i \u001b[38;5;129;01min\u001b[39;00m \u001b[38;5;28mrange\u001b[39m(num_samples):\n\u001b[0;32m     17\u001b[0m     \u001b[38;5;66;03m# Randomly generate a board state\u001b[39;00m\n",
      "\u001b[1;31mNameError\u001b[0m: name 'np' is not defined"
     ]
    }
   ],
   "source": [
    "def generate_dummy_chess_data(num_samples):\n",
    "    \"\"\"\n",
    "    Generate a dummy dataset for chess move prediction.\n",
    "\n",
    "    Args:\n",
    "        num_samples (int): Number of samples to generate.\n",
    "\n",
    "    Returns:\n",
    "        X (np.ndarray): Input features (board states) of shape (num_samples, 8, 8, 12).\n",
    "        y (np.ndarray): Target labels (moves) of shape (num_samples, 1).\n",
    "    \"\"\"\n",
    "    # Initialize empty arrays for board states (X) and target moves (y)\n",
    "    X = np.zeros((num_samples, 8, 8, 12), dtype=np.float32)\n",
    "    y = np.zeros((num_samples, 1), dtype=np.int64)\n",
    "\n",
    "    for i in range(num_samples):\n",
    "        # Randomly generate a board state\n",
    "        for row in range(8):\n",
    "            for col in range(8):\n",
    "                # Randomly select a piece type (0 to 11 for 12 piece types)\n",
    "                piece_type = random.randint(0, 11)\n",
    "                # Set the corresponding channel to 1 to represent the piece presence\n",
    "                X[i, row, col, piece_type] = 1\n",
    "\n",
    "        # Randomly select a move (0 to 63 for 64 board positions)\n",
    "        y[i] = random.randint(0, 63)\n",
    "\n",
    "    return X, y\n",
    "\n",
    "# Prepare the dataset\n",
    "num_samples = 1000  # Number of samples to generate\n",
    "X_train, y_train = generate_dummy_chess_data(num_samples)\n",
    "\n",
    "# Print the shapes of the generated dataset\n",
    "print(f\"Generated dataset shapes: X_train = {X_train.shape}, y_train = {y_train.shape}\")"
   ]
  },
  {
   "cell_type": "code",
   "execution_count": null,
   "id": "760d3985-6b4c-4abf-9392-db33472d8e69",
   "metadata": {},
   "outputs": [],
   "source": [
    "X_train = np.random.rand(1000, 8, 8, 12)  # 1000 board states, 8x8 board, 12 piece types\n",
    "y_train = np.random.randint(0, 64, (1000, 1))  # 1000 moves (0-63 for board positions)\n",
    "\n",
    "# Convert numpy arrays to torch tensors\n",
    "X_train = torch.tensor(X_train, dtype=torch.float32)\n",
    "y_train = torch.tensor(y_train, dtype=torch.long).squeeze()"
   ]
  },
  {
   "cell_type": "code",
   "execution_count": null,
   "id": "5393da86-ca91-47c5-9312-73f56447020e",
   "metadata": {},
   "outputs": [],
   "source": [
    "class ChessMovePredictor(nn.Module):\n",
    "    def __init__(self):\n",
    "        super(ChessMovePredictor, self).__init__()\n",
    "        # Convolutional layers\n",
    "        self.conv1 = nn.Conv2d(in_channels=12, out_channels=32, kernel_size=3, padding=1)\n",
    "        self.conv2 = nn.Conv2d(in_channels=32, out_channels=64, kernel_size=3, padding=1)\n",
    "        \n",
    "        # Fully connected layers\n",
    "        self.fc1 = nn.Linear(64 * 8 * 8, 128)  # Flattened feature size\n",
    "        self.fc2 = nn.Linear(128, 64)  # Output layer for 64 possible board positions\n",
    "\n",
    "    def forward(self, x):\n",
    "        # Forward pass through the network\n",
    "        x = torch.relu(self.conv1(x))  # Apply ReLU activation after the first conv layer\n",
    "        x = torch.relu(self.conv2(x))  # Apply ReLU activation after the second conv layer\n",
    "        \n",
    "        # Flatten the output from the conv layers to feed into fully connected layers\n",
    "        x = x.view(x.size(0), -1)  # Flatten\n",
    "        x = torch.relu(self.fc1(x))  # Apply ReLU activation after the first fully connected layer\n",
    "        x = self.fc2(x)  # Output layer (logits for classification)\n",
    "        \n",
    "        return x"
   ]
  },
  {
   "cell_type": "code",
   "execution_count": null,
   "id": "b7c51c55-e5d7-4d45-a190-b6218ad460ed",
   "metadata": {},
   "outputs": [],
   "source": [
    "# Initialize the model, loss function, and optimizer\n",
    "model = ChessMovePredictor()\n",
    "criterion = nn.CrossEntropyLoss()  # Cross-entropy loss for classification\n",
    "optimizer = optim.Adam(model.parameters(), lr=0.001)  # Adam optimizer"
   ]
  },
  {
   "cell_type": "code",
   "execution_count": null,
   "id": "2035603a-7e33-4ecb-8cdc-1bb77bb468ce",
   "metadata": {},
   "outputs": [],
   "source": [
    "# Training parameters\n",
    "num_epochs = 10\n",
    "batch_size = 32\n",
    "\n",
    "# Training loop\n",
    "for epoch in range(num_epochs):\n",
    "    permutation = torch.randperm(X_train.size()[0])  # Shuffle the training data\n",
    "    \n",
    "    for i in range(0, X_train.size()[0], batch_size):\n",
    "        indices = permutation[i:i + batch_size]  # Get batch indices\n",
    "        batch_x, batch_y = X_train[indices], y_train[indices]  # Get the batch data\n",
    "        \n",
    "        optimizer.zero_grad()  # Zero the parameter gradients\n",
    "        outputs = model(batch_x)  # Forward pass\n",
    "        loss = criterion(outputs, batch_y)  # Compute loss\n",
    "        loss.backward()  # Backpropagation\n",
    "        optimizer.step()  # Update weights\n",
    "        \n",
    "    print(f'Epoch [{epoch+1}/{num_epochs}], Loss: {loss.item():.4f}')  # Print loss after each epoch"
   ]
  },
  {
   "cell_type": "code",
   "execution_count": null,
   "id": "771b932c-5e93-4a9f-82fd-1cc19cf08f14",
   "metadata": {},
   "outputs": [],
   "source": [
    "# Evaluate the model (simple accuracy for demonstration purposes)\n",
    "with torch.no_grad():  # Disable gradient calculation\n",
    "    outputs = model(X_train)  # Get model predictions\n",
    "    _, predicted = torch.max(outputs, 1)  # Get the index of the highest logit\n",
    "    accuracy = (predicted == y_train).float().mean()  # Calculate accuracy\n",
    "    print(f'Accuracy: {accuracy.item():.4f}')  # Print accuracy"
   ]
  }
 ],
 "metadata": {
  "kernelspec": {
   "display_name": "Python 3 (ipykernel)",
   "language": "python",
   "name": "python3"
  },
  "language_info": {
   "codemirror_mode": {
    "name": "ipython",
    "version": 3
   },
   "file_extension": ".py",
   "mimetype": "text/x-python",
   "name": "python",
   "nbconvert_exporter": "python",
   "pygments_lexer": "ipython3",
   "version": "3.12.3"
  }
 },
 "nbformat": 4,
 "nbformat_minor": 5
}
