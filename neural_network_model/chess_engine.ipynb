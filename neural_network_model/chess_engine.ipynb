{
 "cells": [
  {
   "cell_type": "code",
   "execution_count": 49,
   "id": "4940450a-6af9-4bb8-ac18-4b8eb9e0f639",
   "metadata": {},
   "outputs": [],
   "source": [
    "import torch\n",
    "import torch.nn as nn\n",
    "import torch.optim as optim\n",
    "import numpy as np\n",
    "import random"
   ]
  },
  {
   "cell_type": "code",
   "execution_count": 50,
   "id": "de97f810-91f9-42dc-b4e0-be536f37b1d6",
   "metadata": {},
   "outputs": [
    {
     "name": "stdout",
     "output_type": "stream",
     "text": [
      "Generated dataset shapes: X_train = (1000, 8, 8, 12), y_train = (1000, 1)\n"
     ]
    }
   ],
   "source": [
    "# Generate dummy dataset\n",
    "def generate_dummy_chess_data(num_samples):\n",
    "    X = np.zeros((num_samples, 8, 8, 12), dtype=np.float32)\n",
    "    y = np.zeros((num_samples, 1), dtype=np.int64)\n",
    "    \n",
    "    for i in range(num_samples):\n",
    "        for row in range(8):\n",
    "            for col in range(8):\n",
    "                piece_type = random.randint(0, 11)\n",
    "                X[i, row, col, piece_type] = 1\n",
    "        y[i] = random.randint(0, 63)\n",
    "    \n",
    "    return X, y\n",
    "\n",
    "# Prepare the dataset\n",
    "num_samples = 1000  # Number of samples to generate\n",
    "X_train, y_train = generate_dummy_chess_data(num_samples)\n",
    "\n",
    "# Print the shapes of the generated dataset\n",
    "print(f\"Generated dataset shapes: X_train = {X_train.shape}, y_train = {y_train.shape}\")"
   ]
  },
  {
   "cell_type": "code",
   "execution_count": 51,
   "id": "760d3985-6b4c-4abf-9392-db33472d8e69",
   "metadata": {},
   "outputs": [],
   "source": [
    "X_train = np.random.rand(1000, 8, 8, 12)  # 1000 board states, 8x8 board, 12 piece types\n",
    "y_train = np.random.randint(0, 64, (1000, 1))  # 1000 moves (0-63 for board positions)\n",
    "\n",
    "# Convert to torch tensors\n",
    "X_train_tensor = torch.tensor(X_train, dtype=torch.float32)\n",
    "y_train_tensor = torch.tensor(y_train, dtype=torch.long).squeeze()\n",
    "\n",
    "# Permute the tensor to match PyTorch's expected input format\n",
    "X_train_tensor = X_train_tensor.permute(0, 3, 1, 2)  # Change from (batch, height, width, channels) to (batch, channels, height, width)"
   ]
  },
  {
   "cell_type": "code",
   "execution_count": 52,
   "id": "5393da86-ca91-47c5-9312-73f56447020e",
   "metadata": {},
   "outputs": [],
   "source": [
    "class ChessMovePredictor(nn.Module):\n",
    "    def __init__(self):\n",
    "        super(ChessMovePredictor, self).__init__()\n",
    "        # Convolutional layers\n",
    "        self.conv1 = nn.Conv2d(in_channels=12, out_channels=32, kernel_size=3, padding=1)\n",
    "        self.conv2 = nn.Conv2d(in_channels=32, out_channels=64, kernel_size=3, padding=1)\n",
    "        \n",
    "        # Fully connected layers\n",
    "        self.fc1 = nn.Linear(64 * 8 * 8, 128)  # Flattened feature size\n",
    "        self.fc2 = nn.Linear(128, 64)  # Output layer for 64 possible board positions\n",
    "\n",
    "    def forward(self, x):\n",
    "        # Forward pass through the network\n",
    "        x = torch.relu(self.conv1(x))  # Apply ReLU activation after the first conv layer\n",
    "        x = torch.relu(self.conv2(x))  # Apply ReLU activation after the second conv layer\n",
    "        x = x.reshape(x.size(0), -1)\n",
    "\n",
    "        x = torch.relu(self.fc1(x))  # Apply ReLU activation after the first fully connected layer\n",
    "        x = self.fc2(x)  # Output layer (logits for classification)\n",
    "        \n",
    "        return x"
   ]
  },
  {
   "cell_type": "code",
   "execution_count": 53,
   "id": "b7c51c55-e5d7-4d45-a190-b6218ad460ed",
   "metadata": {},
   "outputs": [],
   "source": [
    "# Initialize model, loss function, and optimizer\n",
    "model = ChessMovePredictor()\n",
    "criterion = nn.CrossEntropyLoss()\n",
    "optimizer = optim.Adam(model.parameters(), lr=0.001)"
   ]
  },
  {
   "cell_type": "code",
   "execution_count": 54,
   "id": "a57dd15e-c59f-4bed-9142-8d799fca752e",
   "metadata": {},
   "outputs": [
    {
     "data": {
      "text/plain": [
       "<bound method Module.parameters of ChessMovePredictor(\n",
       "  (conv1): Conv2d(12, 32, kernel_size=(3, 3), stride=(1, 1), padding=(1, 1))\n",
       "  (conv2): Conv2d(32, 64, kernel_size=(3, 3), stride=(1, 1), padding=(1, 1))\n",
       "  (fc1): Linear(in_features=4096, out_features=128, bias=True)\n",
       "  (fc2): Linear(in_features=128, out_features=64, bias=True)\n",
       ")>"
      ]
     },
     "execution_count": 54,
     "metadata": {},
     "output_type": "execute_result"
    }
   ],
   "source": [
    "model.parameters"
   ]
  },
  {
   "cell_type": "code",
   "execution_count": 55,
   "id": "2035603a-7e33-4ecb-8cdc-1bb77bb468ce",
   "metadata": {},
   "outputs": [
    {
     "name": "stdout",
     "output_type": "stream",
     "text": [
      "Epoch [1/20], Loss: 4.1590\n",
      "Epoch [2/20], Loss: 4.1843\n",
      "Epoch [3/20], Loss: 4.1504\n",
      "Epoch [4/20], Loss: 4.1538\n",
      "Epoch [5/20], Loss: 4.0642\n",
      "Epoch [6/20], Loss: 4.0285\n",
      "Epoch [7/20], Loss: 3.9135\n",
      "Epoch [8/20], Loss: 3.8055\n",
      "Epoch [9/20], Loss: 4.1392\n",
      "Epoch [10/20], Loss: 3.3363\n",
      "Epoch [11/20], Loss: 3.0902\n",
      "Epoch [12/20], Loss: 2.6026\n",
      "Epoch [13/20], Loss: 2.1160\n",
      "Epoch [14/20], Loss: 1.8668\n",
      "Epoch [15/20], Loss: 1.2836\n",
      "Epoch [16/20], Loss: 0.7911\n",
      "Epoch [17/20], Loss: 0.7942\n",
      "Epoch [18/20], Loss: 0.5901\n",
      "Epoch [19/20], Loss: 0.5085\n",
      "Epoch [20/20], Loss: 0.2082\n"
     ]
    }
   ],
   "source": [
    "# Training loop\n",
    "num_epochs = 20\n",
    "batch_size = 32\n",
    "\n",
    "for epoch in range(num_epochs):\n",
    "    permutation = torch.randperm(X_train_tensor.size()[0])\n",
    "    \n",
    "    for i in range(0, X_train_tensor.size()[0], batch_size):\n",
    "        indices = permutation[i:i + batch_size]\n",
    "        batch_x, batch_y = X_train_tensor[indices], y_train_tensor[indices]\n",
    "\n",
    "        optimizer.zero_grad()\n",
    "        outputs = model(batch_x)\n",
    "        loss = criterion(outputs, batch_y)\n",
    "        loss.backward()\n",
    "        optimizer.step()\n",
    "\n",
    "    print(f'Epoch [{epoch+1}/{num_epochs}], Loss: {loss.item():.4f}')"
   ]
  },
  {
   "cell_type": "code",
   "execution_count": 56,
   "id": "771b932c-5e93-4a9f-82fd-1cc19cf08f14",
   "metadata": {},
   "outputs": [
    {
     "name": "stdout",
     "output_type": "stream",
     "text": [
      "Accuracy: 0.9960\n"
     ]
    }
   ],
   "source": [
    "# Evaluate the model (simple accuracy for demonstration purposes)\n",
    "with torch.no_grad():  # Disable gradient calculation\n",
    "    outputs = model(X_train_tensor)  # Use X_train_tensor which is a torch.Tensor\n",
    "    # print(torch.max(outputs, 1))\n",
    "    # print(outputs)\n",
    "    _, predicted = torch.max(outputs, 1)  # Get the index of the highest logit\n",
    "    accuracy = (predicted == y_train_tensor).float().mean()  # Calculate accuracy\n",
    "    print(f'Accuracy: {accuracy.item():.4f}')  # Print accuracy\n",
    "\n"
   ]
  },
  {
   "cell_type": "code",
   "execution_count": 59,
   "id": "306baf30-e77f-48b2-84bd-a0235086ad99",
   "metadata": {},
   "outputs": [],
   "source": [
    "import torch.onnx\n",
    "\n",
    "# Assume `model` is your trained PyTorch model and `dummy_input` is a sample input tensor\n",
    "dummy_input = torch.randn(1, 12, 8, 8)  # Input tensor shape for a chess board state\n",
    "torch.onnx.export(model, dummy_input, \"chess_move_predictor.onnx\", input_names=['input'], output_names=['output'])"
   ]
  },
  {
   "cell_type": "code",
   "execution_count": null,
   "id": "27421ca1-b483-48cc-8a3d-9bcffe58de65",
   "metadata": {},
   "outputs": [],
   "source": []
  }
 ],
 "metadata": {
  "kernelspec": {
   "display_name": "Python 3 (ipykernel)",
   "language": "python",
   "name": "python3"
  },
  "language_info": {
   "codemirror_mode": {
    "name": "ipython",
    "version": 3
   },
   "file_extension": ".py",
   "mimetype": "text/x-python",
   "name": "python",
   "nbconvert_exporter": "python",
   "pygments_lexer": "ipython3",
   "version": "3.12.3"
  }
 },
 "nbformat": 4,
 "nbformat_minor": 5
}
